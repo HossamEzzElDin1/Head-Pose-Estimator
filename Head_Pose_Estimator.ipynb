{
 "cells": [
  {
   "cell_type": "code",
   "execution_count": null,
   "metadata": {
    "id": "fAJZAV5gDtu9"
   },
   "outputs": [],
   "source": [
    "#!pip install Mediapipe\n",
    "#!pip install protobuf==3.20.*\n",
    "#!pip install opencv-python\n"
   ]
  },
  {
   "cell_type": "code",
   "execution_count": null,
   "metadata": {
    "id": "QS75OUpKDvzU"
   },
   "outputs": [],
   "source": [
    "import numpy as np\n",
    "import os,cv2,math,glob,random\n",
    "import scipy.io as sio\n",
    "from math import cos, sin\n",
    "from pathlib import Path\n",
    "import pandas as pd\n",
    "import mediapipe\n",
    "import warnings\n",
    "\n",
    "from sklearn.svm import LinearSVR\n",
    "from sklearn.pipeline import make_pipeline\n",
    "from sklearn.datasets import make_regression\n",
    "from sklearn.linear_model import LinearRegression\n",
    "from sklearn.datasets import load_linnerud\n",
    "from sklearn.multioutput import MultiOutputRegressor\n",
    "from sklearn.decomposition import PCA\n",
    "from sklearn.preprocessing import StandardScaler\n",
    "from sklearn.metrics import r2_score\n",
    "from sklearn.metrics import mean_squared_error\n",
    "from sklearn.linear_model import SGDRegressor\n",
    "\n",
    "from sklearn.linear_model import Ridge\n",
    "from sklearn.ensemble import RandomForestRegressor\n",
    "from sklearn.model_selection import GridSearchCV\n",
    "from sklearn.neighbors import KNeighborsRegressor\n",
    "from sklearn.tree import DecisionTreeRegressor\n",
    "from sklearn.model_selection import cross_val_score\n",
    "from sklearn.model_selection import RepeatedKFold\n",
    "from sklearn.multioutput import RegressorChain\n",
    "from sklearn.model_selection import train_test_split\n",
    "import matplotlib.pyplot as plt\n",
    "%matplotlib inline\n",
    "from skimage import io\n",
    "\n",
    "warnings.filterwarnings('ignore')"
   ]
  },
  {
   "cell_type": "code",
   "execution_count": null,
   "metadata": {
    "id": "DYZiW91QD12z"
   },
   "outputs": [],
   "source": [
    "def draw_axis(img, pitch,yaw,roll, tdx=None, tdy=None, size = 100):\n",
    "\n",
    "    yaw = -yaw\n",
    "    if tdx != None and tdy != None:\n",
    "        tdx = tdx\n",
    "        tdy = tdy\n",
    "    else:\n",
    "        height, width = img.shape[:2]\n",
    "        tdx = width / 2\n",
    "        tdy = height / 2\n",
    "\n",
    "    x1 = size * (cos(yaw) * cos(roll)) + tdx\n",
    "    y1 = size * (cos(pitch) * sin(roll) + cos(roll) * sin(pitch) * sin(yaw)) + tdy\n",
    "\n",
    "\n",
    "    x2 = size * (-cos(yaw) * sin(roll)) + tdx\n",
    "    y2 = size * (cos(pitch) * cos(roll) - sin(pitch) * sin(yaw) * sin(roll)) + tdy\n",
    "\n",
    "    x3 = size * (sin(yaw)) + tdx\n",
    "    y3 = size * (-cos(yaw) * sin(pitch)) + tdy\n",
    "\n",
    "    cv2.line(img, (int(tdx), int(tdy)), (int(x1),int(y1)),(0,0,255),3)\n",
    "    cv2.line(img, (int(tdx), int(tdy)), (int(x2),int(y2)),(0,255,0),3)\n",
    "    cv2.line(img, (int(tdx), int(tdy)), (int(x3),int(y3)),(255,0,0),2)\n",
    "\n",
    "    return img"
   ]
  },
  {
   "cell_type": "code",
   "execution_count": null,
   "metadata": {
    "id": "x3kwQsBIEFOE"
   },
   "outputs": [],
   "source": [
    "mylist = [Path(f).stem for f in glob.glob(r\"C:\\Users\\user\\Downloads\\AFLW2000/*.mat\")]"
   ]
  },
  {
   "cell_type": "code",
   "execution_count": null,
   "metadata": {
    "colab": {
     "base_uri": "https://localhost:8080/"
    },
    "id": "w-uNNLvmEHcj",
    "outputId": "265b6fff-2595-4679-ec71-1a79b145af48"
   },
   "outputs": [],
   "source": [
    "file_path = r\"C:\\Users\\user\\Downloads\\AFLW2000\"\n",
    "paths = []\n",
    "for i in range(len(mylist)):\n",
    "    mat_path = os.path.join(file_path,mylist[i] + \".mat\")\n",
    "    paths.append(mat_path)\n",
    "\n",
    "paths\n"
   ]
  },
  {
   "cell_type": "code",
   "execution_count": null,
   "metadata": {
    "colab": {
     "base_uri": "https://localhost:8080/",
     "height": 424
    },
    "id": "WPabXoxFELHD",
    "outputId": "23cf30b5-285d-4686-d72f-d0702e745b40"
   },
   "outputs": [],
   "source": [
    "def get_ypr_from_mat(mat_path):\n",
    "    mat = sio.loadmat(mat_path)\n",
    "    pre_pose_params = mat['Pose_Para'][0]\n",
    "    pose_params = pre_pose_params[:3]\n",
    "    return pose_params\n",
    "\n",
    "ypr_list = []\n",
    "for index in range(len(paths)):\n",
    "    ypr_list.append(get_ypr_from_mat(paths[index]))\n",
    "\n",
    "ypr_df = pd.DataFrame(ypr_list,columns=[\"yaw\",\"pitch\",\"roll\"])\n",
    "ypr_df['img'] = mylist\n",
    "ypr_df"
   ]
  },
  {
   "cell_type": "code",
   "execution_count": null,
   "metadata": {
    "id": "WqSNn8T-ENUL"
   },
   "outputs": [],
   "source": [
    "x_relative = []\n",
    "y_relative = []\n",
    "img = []\n",
    "for iter in mylist:\n",
    "    faceModule = mediapipe.solutions.face_mesh\n",
    "    with faceModule.FaceMesh(static_image_mode=True) as faces:\n",
    "        image = io.imread(r'C:\\Users\\user\\Downloads\\AFLW2000/'+iter+'.jpg')\n",
    "        results = faces.process(cv2.cvtColor(image, cv2.COLOR_BGR2RGB))\n",
    "        if results.multi_face_landmarks != None: \n",
    "            for face in results.multi_face_landmarks:\n",
    "                lst1 = []\n",
    "                lst2 = []\n",
    "                for landmark in face.landmark:\n",
    "                    x = landmark.x\n",
    "                    y = landmark.y\n",
    "                    shape = image.shape \n",
    "                    relative_x = int(x * shape[1])\n",
    "                    relative_y = int(y * shape[0])\n",
    "                    cv2.circle(image, (relative_x, relative_y), radius=1, color=(0, 255, 0), thickness=2)\n",
    "                    lst1.append(relative_x)\n",
    "                    lst2.append(relative_y)\n",
    "\n",
    "                x_relative.append(lst1)\n",
    "                y_relative.append(lst2)\n",
    "                img.append(iter)"
   ]
  },
  {
   "cell_type": "code",
   "execution_count": null,
   "metadata": {
    "id": "JGCEChfQElpk"
   },
   "outputs": [],
   "source": [
    "x_df = pd.DataFrame(x_relative)\n",
    "y_df = pd.DataFrame(y_relative)\n",
    "img_df = pd.DataFrame(img , columns=['img'])"
   ]
  },
  {
   "cell_type": "code",
   "execution_count": null,
   "metadata": {
    "id": "fX_PXVlmEvQ8"
   },
   "outputs": [],
   "source": [
    "concatenated_dfs = pd.concat([x_df, y_df,img_df], axis=\"columns\")"
   ]
  },
  {
   "cell_type": "code",
   "execution_count": null,
   "metadata": {
    "colab": {
     "base_uri": "https://localhost:8080/",
     "height": 424
    },
    "id": "NkSHFlquFAGm",
    "outputId": "b77f5c53-8be7-48bd-8122-5a942bd835f5"
   },
   "outputs": [],
   "source": [
    "concatenated_dfs"
   ]
  },
  {
   "cell_type": "code",
   "execution_count": null,
   "metadata": {
    "id": "_Wjf8_5fMlFd"
   },
   "outputs": [],
   "source": [
    "dfff=concatenated_dfs.join(ypr_df.set_index('img'), on='img')"
   ]
  },
  {
   "cell_type": "code",
   "execution_count": null,
   "metadata": {
    "id": "izvvC3Q7PGbl"
   },
   "outputs": [],
   "source": []
  },
  {
   "cell_type": "code",
   "execution_count": null,
   "metadata": {
    "id": "o0U2IRIHOzqf"
   },
   "outputs": [],
   "source": [
    "dfff.to_csv(\"my_data\",index=False)"
   ]
  },
  {
   "cell_type": "code",
   "execution_count": null,
   "metadata": {
    "colab": {
     "base_uri": "https://localhost:8080/",
     "height": 424
    },
    "id": "2X5iz4PPPTse",
    "outputId": "1a620c1f-324b-4fba-9ab6-a09ec44ef044"
   },
   "outputs": [],
   "source": [
    "my_data = pd.read_csv(r\"C:\\Users\\user\\my_data\")\n",
    "my_data"
   ]
  },
  {
   "cell_type": "code",
   "execution_count": null,
   "metadata": {
    "id": "3TKVaH2gPZeF"
   },
   "outputs": [],
   "source": [
    "x= my_data.drop(['yaw'\t,'pitch'\t,'roll','img'],axis=1)\n",
    "y= my_data[['yaw'\t,'pitch'\t,'roll']]"
   ]
  },
  {
   "cell_type": "code",
   "execution_count": null,
   "metadata": {
    "id": "UMxFqSk4Plom"
   },
   "outputs": [],
   "source": [
    "X_train, X_test, y_train, y_test= train_test_split(x, y, test_size=0.2, random_state=42)"
   ]
  },
  {
   "cell_type": "code",
   "execution_count": null,
   "metadata": {
    "id": "b_PTGpa7QMJP"
   },
   "outputs": [],
   "source": [
    "from sklearn.svm import SVR\n",
    "from sklearn.preprocessing import StandardScaler\n",
    "from sklearn.decomposition import PCA\n",
    "from sklearn.pipeline import Pipeline\n",
    "from sklearn.multioutput import MultiOutputRegressor"
   ]
  },
  {
   "cell_type": "code",
   "execution_count": null,
   "metadata": {
    "id": "2KynASJzQdiG"
   },
   "outputs": [],
   "source": [
    "regr = MultiOutputRegressor(SVR(C=3,epsilon=0.02,tol=0.00001))\n",
    "\n",
    "pipe = Pipeline([('scaler', StandardScaler()),('pca',PCA(n_components=500)), ('svr', regr)])"
   ]
  },
  {
   "cell_type": "code",
   "execution_count": null,
   "metadata": {
    "colab": {
     "base_uri": "https://localhost:8080/"
    },
    "id": "qGtgum_UQ1tE",
    "outputId": "20818381-c2d7-4d5a-add0-927558834317"
   },
   "outputs": [],
   "source": [
    "pipe.fit(X_train, y_train)"
   ]
  },
  {
   "cell_type": "code",
   "execution_count": null,
   "metadata": {
    "colab": {
     "base_uri": "https://localhost:8080/"
    },
    "id": "7A7EXd6CRbZY",
    "outputId": "c363a938-5100-46f9-f048-8fc62bbfed3d"
   },
   "outputs": [],
   "source": [
    "pipe.score(X_test, y_test)"
   ]
  },
  {
   "cell_type": "code",
   "execution_count": null,
   "metadata": {
    "id": "58YvpUTOSatv"
   },
   "outputs": [],
   "source": [
    "y_perd=pipe.predict(X_test)"
   ]
  },
  {
   "cell_type": "code",
   "execution_count": null,
   "metadata": {
    "colab": {
     "base_uri": "https://localhost:8080/"
    },
    "id": "YiyimAy2TaWe",
    "outputId": "40375190-b557-4e73-af02-befb741f915f"
   },
   "outputs": [],
   "source": [
    "print(\"R2 score: \", r2_score(y_test, y_perd))\n",
    "print(\"MSE: \", mean_squared_error(y_test, y_perd))"
   ]
  },
  {
   "cell_type": "code",
   "execution_count": null,
   "metadata": {
    "id": "qgiRFZYlc9of"
   },
   "outputs": [],
   "source": [
    "import pickle\n",
    "\n",
    "filename = 'finalized_model.sav'\n",
    "pickle.dump(pipe, open(filename, 'wb'))\n"
   ]
  },
  {
   "cell_type": "code",
   "execution_count": null,
   "metadata": {
    "id": "ELhgLsW-d3Co"
   },
   "outputs": [],
   "source": [
    "loaded_model = pickle.load(open(filename, 'rb'))\n"
   ]
  },
  {
   "cell_type": "code",
   "execution_count": null,
   "metadata": {
    "colab": {
     "base_uri": "https://localhost:8080/",
     "height": 467
    },
    "id": "zErI6Ld4XybQ",
    "outputId": "6620c3e9-b696-4bba-f940-30948d4c8249"
   },
   "outputs": [],
   "source": [
    "image = io.imread(r'C:\\Users\\user\\Downloads\\AFLW2000/'+'image00079'+'.jpg')\n",
    "mat_file = sio.loadmat(r'C:\\Users\\user\\Downloads\\AFLW2000/'+'image00079'+'.mat')\n",
    "pose_para = mat_file[\"Pose_Para\"][0][:3]\n",
    "pitch = pose_para[0]\n",
    "yaw = pose_para[1]\n",
    "roll = pose_para[2]\n",
    "plt.imshow(draw_axis(image,pitch,yaw,roll))"
   ]
  },
  {
   "cell_type": "code",
   "execution_count": null,
   "metadata": {},
   "outputs": [],
   "source": [
    "def getData(image,draw_mesh=False):\n",
    "    faceModule = mediapipe.solutions.face_mesh\n",
    "    x_relative = []\n",
    "    y_relative = []\n",
    "    images_data = []\n",
    "    mesh_image = image.copy()\n",
    "\n",
    "    with faceModule.FaceMesh(static_image_mode=True) as faces:\n",
    "        image_data = []\n",
    "        results = faces.process(cv2.cvtColor(image, cv2.COLOR_BGR2RGB))\n",
    "        \n",
    "        if results.multi_face_landmarks != None:\n",
    "            for face in results.multi_face_landmarks:\n",
    "                lst1=[]\n",
    "                lst2=[]\n",
    "                for landmark in face.landmark:\n",
    "                    x = landmark.x\n",
    "                    y = landmark.y\n",
    "                    shape = image.shape \n",
    "                    relative_x = int(x * shape[1])\n",
    "                    relative_y = int(y * shape[0])\n",
    "                    lst1.append(relative_x)\n",
    "                    lst2.append(relative_y)\n",
    "                    if draw_mesh:\n",
    "                        cv2.circle(mesh_image, (relative_x, relative_y), radius=1, color=(0, 200, 0), thickness=2)\n",
    "                    \n",
    "                x_relative.append(lst1)\n",
    "                y_relative.append(lst2)\n",
    "     \n",
    "    df1 = pd.DataFrame(x_relative)\n",
    "    df2 = pd.DataFrame(y_relative)\n",
    "    df =  pd.concat([df1,df2],axis=\"columns\")\n",
    "    cols = []\n",
    "    cols += [x+str(i+1) for i in range(468) for x in ['X']]\n",
    "    cols += [x+str(i+1) for i in range(468) for x in ['Y']]\n",
    "    df.columns = cols\n",
    "    return df, image, mesh_image"
   ]
  },
  {
   "cell_type": "code",
   "execution_count": null,
   "metadata": {},
   "outputs": [],
   "source": [
    "cols = []\n",
    "cols += [x+str(i+1) for i in range(468) for x in ['X']]\n",
    "cols += [x+str(i+1) for i in range(468) for x in ['Y']]\n",
    "\n",
    "cols"
   ]
  },
  {
   "cell_type": "code",
   "execution_count": null,
   "metadata": {},
   "outputs": [],
   "source": [
    "def functionality(frame):\n",
    "    df_frame, frame,frame_mesh = getData(frame, draw_mesh=False)\n",
    "    if df_frame.size > 0:\n",
    "        df_frame, image, mesh = getData(frame)\n",
    "        y_pred = pipe.predict(df_frame)[0]\n",
    "        pitch = y_pred[0]\n",
    "        yaw = y_pred[1]\n",
    "        roll = y_pred[2]\n",
    "        tdx = int(df_frame['X3'].values)\n",
    "        tdy = int(df_frame['Y3'].values)\n",
    "        print(y_pred)\n",
    "        return draw_axis(frame_mesh,pitch,yaw,roll, tdx=tdx, tdy=tdy, size=50)\n",
    "    else:\n",
    "        return frame\n",
    "    \n"
   ]
  },
  {
   "cell_type": "code",
   "execution_count": null,
   "metadata": {
    "id": "QgdYY1vbZQ7a"
   },
   "outputs": [],
   "source": [
    "cap = cv2.VideoCapture(0)\n",
    "\n",
    "if not cap.isOpened():\n",
    "    raise IOError(\"Cannot open webcam\")\n",
    "\n",
    "while True:\n",
    "    c = cv2.waitKey(1) \n",
    "    ret, frame = cap.read()\n",
    "    \n",
    "    if frame is not None and ret:\n",
    "            frame = functionality(frame)\n",
    "\n",
    "    \n",
    "    frame = cv2.resize(frame, None, fx=1, fy=1, interpolation=cv2.INTER_AREA)\n",
    "\n",
    "    cv2.imshow('Pose Detection Application', frame)\n",
    "    \n",
    "    if c == 27:\n",
    "        break\n",
    "\n",
    "cap.release()\n",
    "cv2.destroyAllWindows()"
   ]
  },
  {
   "cell_type": "code",
   "execution_count": null,
   "metadata": {},
   "outputs": [],
   "source": []
  },
  {
   "cell_type": "code",
   "execution_count": null,
   "metadata": {},
   "outputs": [],
   "source": []
  }
 ],
 "metadata": {
  "colab": {
   "collapsed_sections": [],
   "name": "Untitled2.ipynb",
   "provenance": []
  },
  "kernelspec": {
   "display_name": "Python 3 (ipykernel)",
   "language": "python",
   "name": "python3"
  },
  "language_info": {
   "codemirror_mode": {
    "name": "ipython",
    "version": 3
   },
   "file_extension": ".py",
   "mimetype": "text/x-python",
   "name": "python",
   "nbconvert_exporter": "python",
   "pygments_lexer": "ipython3",
   "version": "3.9.7"
  }
 },
 "nbformat": 4,
 "nbformat_minor": 1
}
